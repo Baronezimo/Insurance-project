{
 "cells": [
  {
   "cell_type": "markdown",
   "metadata": {
    "id": "NuPdKeREITY8"
   },
   "source": [
    "\n",
    "### INSURANCE CLAIM PROJECT"
   ]
  },
  {
   "cell_type": "markdown",
   "metadata": {
    "id": "srZKDTrXITZE"
   },
   "source": [
    "### Background:\n",
    "Leveraging customer information is of paramount importance for most businesses. In the case of an insurance company, the attributes of customers can be crucial in making business decisions. Hence, knowing to explore and generate value out of such data can be an invaluable skill to have.\n",
    "As a Data Scientist/Analyst in the Abuja Insurance company. The company wants to have a detailed understanding of the customer base for one of its Insurance Policy 'MediClaim'. The idea is to generate insights about the customers and answer a few key questions, by using the past dataset. The dataset 'abuja_Insurance' contains customers' details like age, sex, charges, etc.\n",
    "\n",
    "### Objective:\n",
    "Explore the dataset and extract insights from the data. The idea is for you to get comfortable with doing analysis in Python.\n",
    "You are expected to do the following:\n",
    ">  Explore the dataset and extract insights using Exploratory Data Analysis.\n",
    "- Prove(or disprove) that the medical claims made by the people who smoke are greater than those who don't?\n",
    "- Prove (or disprove) with that the BMI of females is different from that of males.\n",
    "- Does the smoking habit of customers depend on their region?\n",
    "- Is the mean BMI of women with no children, one child, and two children the same? \n",
    "\n"
   ]
  },
  {
   "cell_type": "markdown",
   "metadata": {
    "id": "FSrZQV_sITZI"
   },
   "source": [
    "#### Data Dictionary –\n",
    "- Age - This is an integer indicating the age of the primary beneficiary (excluding those above 64 years, since they are generally covered by the government).\n",
    "- Sex - This is the policy holder's gender, either male or female.\n",
    "- BMI - This is the body mass index (BMI), which provides a sense of how over or underweight a person is relative to their height. BMI is equal to weight (in kilograms) divided by height (in meters) squared. An ideal BMI is within the range of 18.5 to 24.9.\n",
    "- Children - This is an integer indicating the number of children/dependents covered by the insurance plan.\n",
    "- Smoker - This is yes or no depending on whether the insured regularly smokes tobacco.\n",
    "- Region - This is the beneficiary's place of residence in the U.S., divided into four geographic regions - northeast, southeast, southwest, or northwest.\n",
    "- Charges - Individual medical costs billed to health insurance\n"
   ]
  },
  {
   "cell_type": "markdown",
   "metadata": {
    "id": "0eFzEyMHITZd"
   },
   "source": [
    "### importing necesary libraries"
   ]
  },
  {
   "cell_type": "code",
   "execution_count": 2,
   "metadata": {
    "executionInfo": {
     "elapsed": 51,
     "status": "ok",
     "timestamp": 1662525771061,
     "user": {
      "displayName": "Bot Mandieng",
      "userId": "08526973716046005463"
     },
     "user_tz": -60
    },
    "id": "G-3vRInHL6t5"
   },
   "outputs": [],
   "source": [
    "#import libraries\n"
   ]
  },
  {
   "cell_type": "code",
   "execution_count": 3,
   "metadata": {
    "executionInfo": {
     "elapsed": 45,
     "status": "ok",
     "timestamp": 1662525771063,
     "user": {
      "displayName": "Bot Mandieng",
      "userId": "08526973716046005463"
     },
     "user_tz": -60
    },
    "id": "MkrI7x_wITZj"
   },
   "outputs": [
    {
     "data": {
      "text/html": [
       "<div>\n",
       "<style scoped>\n",
       "    .dataframe tbody tr th:only-of-type {\n",
       "        vertical-align: middle;\n",
       "    }\n",
       "\n",
       "    .dataframe tbody tr th {\n",
       "        vertical-align: top;\n",
       "    }\n",
       "\n",
       "    .dataframe thead th {\n",
       "        text-align: right;\n",
       "    }\n",
       "</style>\n",
       "<table border=\"1\" class=\"dataframe\">\n",
       "  <thead>\n",
       "    <tr style=\"text-align: right;\">\n",
       "      <th></th>\n",
       "      <th>age</th>\n",
       "      <th>sex</th>\n",
       "      <th>bmi</th>\n",
       "      <th>children</th>\n",
       "      <th>smoker</th>\n",
       "      <th>region</th>\n",
       "      <th>charges</th>\n",
       "    </tr>\n",
       "  </thead>\n",
       "  <tbody>\n",
       "    <tr>\n",
       "      <th>0</th>\n",
       "      <td>21</td>\n",
       "      <td>female</td>\n",
       "      <td>16.000</td>\n",
       "      <td>1</td>\n",
       "      <td>no</td>\n",
       "      <td>northeast</td>\n",
       "      <td>3167.45585</td>\n",
       "    </tr>\n",
       "    <tr>\n",
       "      <th>1</th>\n",
       "      <td>18</td>\n",
       "      <td>male</td>\n",
       "      <td>33.770</td>\n",
       "      <td>1</td>\n",
       "      <td>no</td>\n",
       "      <td>southeast</td>\n",
       "      <td>1725.55230</td>\n",
       "    </tr>\n",
       "    <tr>\n",
       "      <th>2</th>\n",
       "      <td>28</td>\n",
       "      <td>male</td>\n",
       "      <td>33.000</td>\n",
       "      <td>3</td>\n",
       "      <td>no</td>\n",
       "      <td>southeast</td>\n",
       "      <td>4449.46200</td>\n",
       "    </tr>\n",
       "    <tr>\n",
       "      <th>3</th>\n",
       "      <td>33</td>\n",
       "      <td>male</td>\n",
       "      <td>22.705</td>\n",
       "      <td>0</td>\n",
       "      <td>no</td>\n",
       "      <td>northwest</td>\n",
       "      <td>21984.47061</td>\n",
       "    </tr>\n",
       "    <tr>\n",
       "      <th>4</th>\n",
       "      <td>32</td>\n",
       "      <td>male</td>\n",
       "      <td>28.880</td>\n",
       "      <td>0</td>\n",
       "      <td>no</td>\n",
       "      <td>northwest</td>\n",
       "      <td>3866.85520</td>\n",
       "    </tr>\n",
       "  </tbody>\n",
       "</table>\n",
       "</div>"
      ],
      "text/plain": [
       "   age     sex     bmi  children smoker     region      charges\n",
       "0   21  female  16.000         1     no  northeast   3167.45585\n",
       "1   18    male  33.770         1     no  southeast   1725.55230\n",
       "2   28    male  33.000         3     no  southeast   4449.46200\n",
       "3   33    male  22.705         0     no  northwest  21984.47061\n",
       "4   32    male  28.880         0     no  northwest   3866.85520"
      ]
     },
     "execution_count": 3,
     "metadata": {},
     "output_type": "execute_result"
    }
   ],
   "source": [
    "# data importing and reading in of Data sets\n"
   ]
  },
  {
   "cell_type": "code",
   "execution_count": 8,
   "metadata": {
    "executionInfo": {
     "elapsed": 44,
     "status": "ok",
     "timestamp": 1662525771065,
     "user": {
      "displayName": "Bot Mandieng",
      "userId": "08526973716046005463"
     },
     "user_tz": -60
    },
    "id": "F9WtDOkeQScO"
   },
   "outputs": [],
   "source": [
    "#assess the dataset's description\n"
   ]
  },
  {
   "cell_type": "code",
   "execution_count": 10,
   "metadata": {
    "executionInfo": {
     "elapsed": 44,
     "status": "ok",
     "timestamp": 1662525771067,
     "user": {
      "displayName": "Bot Mandieng",
      "userId": "08526973716046005463"
     },
     "user_tz": -60
    },
    "id": "4YJlKlSdQKlq"
   },
   "outputs": [],
   "source": [
    "#assess the dataset for data duplicates\n"
   ]
  },
  {
   "cell_type": "code",
   "execution_count": 12,
   "metadata": {
    "executionInfo": {
     "elapsed": 44,
     "status": "ok",
     "timestamp": 1662525771069,
     "user": {
      "displayName": "Bot Mandieng",
      "userId": "08526973716046005463"
     },
     "user_tz": -60
    },
    "id": "oAXZPKt-QFjO"
   },
   "outputs": [],
   "source": [
    "#assess the dataset for missing data\n"
   ]
  },
  {
   "cell_type": "markdown",
   "metadata": {
    "id": "HzHxO34OITZr"
   },
   "source": [
    "### EXPLORATTORY DATA ANALYSIS"
   ]
  },
  {
   "cell_type": "markdown",
   "metadata": {
    "id": "XjQNjDAcITZs"
   },
   "source": [
    "### Univariate Analysis"
   ]
  },
  {
   "cell_type": "code",
   "execution_count": 14,
   "metadata": {
    "executionInfo": {
     "elapsed": 43,
     "status": "ok",
     "timestamp": 1662525771071,
     "user": {
      "displayName": "Bot Mandieng",
      "userId": "08526973716046005463"
     },
     "user_tz": -60
    },
    "id": "LdG-oaXjITZt"
   },
   "outputs": [],
   "source": [
    "#importing visualization libraries\n"
   ]
  },
  {
   "cell_type": "code",
   "execution_count": 16,
   "metadata": {
    "executionInfo": {
     "elapsed": 44,
     "status": "ok",
     "timestamp": 1662525771073,
     "user": {
      "displayName": "Bot Mandieng",
      "userId": "08526973716046005463"
     },
     "user_tz": -60
    },
    "id": "zWos3q5bITZz"
   },
   "outputs": [],
   "source": [
    "#univariate analysis for the body mass index feature\n"
   ]
  },
  {
   "cell_type": "code",
   "execution_count": 18,
   "metadata": {
    "executionInfo": {
     "elapsed": 43,
     "status": "ok",
     "timestamp": 1662525771075,
     "user": {
      "displayName": "Bot Mandieng",
      "userId": "08526973716046005463"
     },
     "user_tz": -60
    },
    "id": "2-_9vmOQITZ1"
   },
   "outputs": [],
   "source": [
    "#univariate analysis for the charges feature\n"
   ]
  },
  {
   "cell_type": "code",
   "execution_count": 20,
   "metadata": {
    "executionInfo": {
     "elapsed": 42,
     "status": "ok",
     "timestamp": 1662525771076,
     "user": {
      "displayName": "Bot Mandieng",
      "userId": "08526973716046005463"
     },
     "user_tz": -60
    },
    "id": "f2zhycexITZ3"
   },
   "outputs": [],
   "source": [
    "#univariate analysis for the age feature\n"
   ]
  },
  {
   "cell_type": "code",
   "execution_count": 23,
   "metadata": {
    "executionInfo": {
     "elapsed": 46,
     "status": "ok",
     "timestamp": 1662525771082,
     "user": {
      "displayName": "Bot Mandieng",
      "userId": "08526973716046005463"
     },
     "user_tz": -60
    },
    "id": "_K1ZYlGPITZ6"
   },
   "outputs": [],
   "source": [
    "#univariate analysis of the smoker feature\n"
   ]
  },
  {
   "cell_type": "code",
   "execution_count": 16,
   "metadata": {
    "executionInfo": {
     "elapsed": 46,
     "status": "ok",
     "timestamp": 1662525771084,
     "user": {
      "displayName": "Bot Mandieng",
      "userId": "08526973716046005463"
     },
     "user_tz": -60
    },
    "id": "z4MWm_-_ITZ-"
   },
   "outputs": [],
   "source": [
    "#graphical visualiation of the sex feature\n"
   ]
  },
  {
   "cell_type": "code",
   "execution_count": 18,
   "metadata": {
    "executionInfo": {
     "elapsed": 46,
     "status": "ok",
     "timestamp": 1662525771088,
     "user": {
      "displayName": "Bot Mandieng",
      "userId": "08526973716046005463"
     },
     "user_tz": -60
    },
    "id": "QzX6bmhzITaD"
   },
   "outputs": [],
   "source": [
    "# graphical visualiation of the target label(charges feature)\n"
   ]
  },
  {
   "cell_type": "markdown",
   "metadata": {},
   "source": [
    "### OBSERVATIONS"
   ]
  },
  {
   "cell_type": "code",
   "execution_count": null,
   "metadata": {},
   "outputs": [],
   "source": []
  },
  {
   "cell_type": "markdown",
   "metadata": {
    "id": "NmJUkZxZITaH"
   },
   "source": [
    "### Bivariate Analysis"
   ]
  },
  {
   "cell_type": "code",
   "execution_count": 19,
   "metadata": {
    "executionInfo": {
     "elapsed": 840,
     "status": "ok",
     "timestamp": 1662525771884,
     "user": {
      "displayName": "Bot Mandieng",
      "userId": "08526973716046005463"
     },
     "user_tz": -60
    },
    "id": "5Qne4mgkITaM"
   },
   "outputs": [],
   "source": [
    "#jointplot exploring the relationship between the bmi vs charges features\n"
   ]
  },
  {
   "cell_type": "code",
   "execution_count": 20,
   "metadata": {
    "executionInfo": {
     "elapsed": 31,
     "status": "ok",
     "timestamp": 1662525771886,
     "user": {
      "displayName": "Bot Mandieng",
      "userId": "08526973716046005463"
     },
     "user_tz": -60
    },
    "id": "yi3bVznZITaQ"
   },
   "outputs": [],
   "source": [
    "#exploring the distributions and the relationships between the bmi vs the sex/gender feature\n"
   ]
  },
  {
   "cell_type": "code",
   "execution_count": 34,
   "metadata": {
    "executionInfo": {
     "elapsed": 31,
     "status": "ok",
     "timestamp": 1662525771888,
     "user": {
      "displayName": "Bot Mandieng",
      "userId": "08526973716046005463"
     },
     "user_tz": -60
    },
    "id": "pIULEbYuITaT"
   },
   "outputs": [],
   "source": [
    "#bivariate analysis of the region vs smoker features\n"
   ]
  },
  {
   "cell_type": "code",
   "execution_count": 23,
   "metadata": {
    "executionInfo": {
     "elapsed": 37,
     "status": "ok",
     "timestamp": 1662525771898,
     "user": {
      "displayName": "Bot Mandieng",
      "userId": "08526973716046005463"
     },
     "user_tz": -60
    },
    "id": "yLyLG73oITaY"
   },
   "outputs": [],
   "source": [
    "#exploring the relationship between the number of children feature and the smoker feature \n"
   ]
  },
  {
   "cell_type": "code",
   "execution_count": 24,
   "metadata": {
    "executionInfo": {
     "elapsed": 38,
     "status": "ok",
     "timestamp": 1662525771901,
     "user": {
      "displayName": "Bot Mandieng",
      "userId": "08526973716046005463"
     },
     "user_tz": -60
    },
    "id": "lXV1bfLFITaZ"
   },
   "outputs": [],
   "source": [
    "#bivariate analysis of the number of children feature Vs the medical claim charges feature Vs the smoker feature\n"
   ]
  },
  {
   "cell_type": "markdown",
   "metadata": {
    "id": "m8k942YVITaU"
   },
   "source": [
    "#### observation\n",
    "- state down your observtaions from the bivariate analysis"
   ]
  },
  {
   "cell_type": "markdown",
   "metadata": {
    "id": "sGFjzbhuITab"
   },
   "source": [
    "### Multivariate Analaysis"
   ]
  },
  {
   "cell_type": "code",
   "execution_count": 25,
   "metadata": {
    "executionInfo": {
     "elapsed": 38,
     "status": "ok",
     "timestamp": 1662525771903,
     "user": {
      "displayName": "Bot Mandieng",
      "userId": "08526973716046005463"
     },
     "user_tz": -60
    },
    "id": "cjiucNaxITac"
   },
   "outputs": [],
   "source": [
    "#use a pairplot to explore the relationship between the nummerical features in the dataset\n"
   ]
  },
  {
   "cell_type": "code",
   "execution_count": 26,
   "metadata": {
    "executionInfo": {
     "elapsed": 39,
     "status": "ok",
     "timestamp": 1662525771906,
     "user": {
      "displayName": "Bot Mandieng",
      "userId": "08526973716046005463"
     },
     "user_tz": -60
    },
    "id": "PyVI2Tj0ITae"
   },
   "outputs": [],
   "source": [
    "## heatmeap to see the correlation between features. "
   ]
  },
  {
   "cell_type": "code",
   "execution_count": null,
   "metadata": {},
   "outputs": [],
   "source": [
    "#exploring the relationship between the sex vs smoker vs charges features\n"
   ]
  },
  {
   "cell_type": "markdown",
   "metadata": {
    "id": "UJYbUnDJITaf"
   },
   "source": [
    "**observations**\n",
    "- state down your observations from the multivariate analysis\n",
    "\n"
   ]
  },
  {
   "cell_type": "code",
   "execution_count": null,
   "metadata": {
    "executionInfo": {
     "elapsed": 39,
     "status": "ok",
     "timestamp": 1662525771908,
     "user": {
      "displayName": "Bot Mandieng",
      "userId": "08526973716046005463"
     },
     "user_tz": -60
    },
    "id": "CC85W4rSITag"
   },
   "outputs": [],
   "source": []
  }
 ],
 "metadata": {
  "colab": {
   "provenance": []
  },
  "kernelspec": {
   "display_name": "Python 3 (ipykernel)",
   "language": "python",
   "name": "python3"
  },
  "language_info": {
   "codemirror_mode": {
    "name": "ipython",
    "version": 3
   },
   "file_extension": ".py",
   "mimetype": "text/x-python",
   "name": "python",
   "nbconvert_exporter": "python",
   "pygments_lexer": "ipython3",
   "version": "3.11.7"
  }
 },
 "nbformat": 4,
 "nbformat_minor": 4
}
